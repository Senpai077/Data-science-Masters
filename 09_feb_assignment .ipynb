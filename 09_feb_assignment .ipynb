{
 "cells": [
  {
   "cell_type": "markdown",
   "id": "a2f91566-1b25-4123-a81a-3a53ec547102",
   "metadata": {},
   "source": [
    "# 1~"
   ]
  },
  {
   "cell_type": "code",
   "execution_count": 32,
   "id": "c6ceef9d-be31-4d90-85c7-253a1a573f54",
   "metadata": {
    "tags": []
   },
   "outputs": [],
   "source": [
    "class vehical:\n",
    "    \n",
    "    def __init__(self,name_of_vehical,max_speed,average_speed):\n",
    "        self.name_of_vehical = name_of_vehical\n",
    "        self.max_speed = max_speed\n",
    "        self.average_speed = average_speed\n",
    "        \n",
    "    \n",
    "        "
   ]
  },
  {
   "cell_type": "code",
   "execution_count": 77,
   "id": "9dc39e17-5059-40d6-b062-90c37b2699a2",
   "metadata": {
    "tags": []
   },
   "outputs": [],
   "source": [
    "class child(vehical):\n",
    "    \n",
    "    \n",
    "    def seat_capacity(self,capacity):\n",
    "        self.seatcapacity = capacity\n",
    "        self.rsult = print(\"The seating cappacity of\", self.name_of_vehical,\"is\",self.seatcapacity)\n",
    "        return self.rsult\n",
    "        \n",
    "        "
   ]
  },
  {
   "cell_type": "code",
   "execution_count": 78,
   "id": "54785f7a-52b8-48be-99b2-05a6ab38534e",
   "metadata": {
    "tags": []
   },
   "outputs": [],
   "source": [
    "maruti = child(\"maruti\",140,80)"
   ]
  },
  {
   "cell_type": "code",
   "execution_count": 79,
   "id": "98f5575d-7911-4857-bb45-fadd110a0fba",
   "metadata": {
    "tags": []
   },
   "outputs": [
    {
     "name": "stdout",
     "output_type": "stream",
     "text": [
      "The seating cappacity of maruti is 5\n"
     ]
    }
   ],
   "source": [
    "maruti.seat_capacity(5)"
   ]
  },
  {
   "cell_type": "markdown",
   "id": "f5ac277b-04df-40a0-b09a-2bbe30ee7cec",
   "metadata": {},
   "source": [
    "# 2~"
   ]
  },
  {
   "cell_type": "code",
   "execution_count": 86,
   "id": "7c36c93c-8559-44c7-877b-da152d4000d1",
   "metadata": {
    "tags": []
   },
   "outputs": [],
   "source": [
    "#Multiple inheritance is a type of inheritance in which a single class inherit two different classes at the same time.\n",
    "\n",
    "class _1:\n",
    "    def claaa_1_func(self):\n",
    "        print(\"class_1\")\n",
    "        "
   ]
  },
  {
   "cell_type": "code",
   "execution_count": 87,
   "id": "fb0e4350-6e83-4f33-84c3-5aaee518bb4b",
   "metadata": {
    "tags": []
   },
   "outputs": [],
   "source": [
    "class _2:\n",
    "    def claaa_2_func(self):\n",
    "        print(\"class_2\")"
   ]
  },
  {
   "cell_type": "code",
   "execution_count": 88,
   "id": "88862e22-d763-40e0-97ed-07d4b113717e",
   "metadata": {
    "tags": []
   },
   "outputs": [],
   "source": [
    "class _3(_1,_2):\n",
    "    def claaa_3_func(self):\n",
    "        print(\"class_3\")"
   ]
  },
  {
   "cell_type": "code",
   "execution_count": 89,
   "id": "ac6b33c5-f1e5-49bf-9fc1-e97e4873b660",
   "metadata": {
    "tags": []
   },
   "outputs": [],
   "source": [
    "clas_3_obj = _3()"
   ]
  },
  {
   "cell_type": "code",
   "execution_count": 90,
   "id": "27ea51c8-c777-44c3-b7a6-3e3b9ba84a7c",
   "metadata": {
    "tags": []
   },
   "outputs": [
    {
     "name": "stdout",
     "output_type": "stream",
     "text": [
      "class_1\n"
     ]
    }
   ],
   "source": [
    "clas_3_obj.claaa_1_func()"
   ]
  },
  {
   "cell_type": "code",
   "execution_count": 91,
   "id": "042f0db9-7db1-46ab-a6c4-a445c4201788",
   "metadata": {
    "tags": []
   },
   "outputs": [
    {
     "name": "stdout",
     "output_type": "stream",
     "text": [
      "class_2\n"
     ]
    }
   ],
   "source": [
    "clas_3_obj.claaa_2_func()"
   ]
  },
  {
   "cell_type": "markdown",
   "id": "504b2f13-a342-48a3-8a72-1a02e6d52d29",
   "metadata": {},
   "source": [
    "# 3~"
   ]
  },
  {
   "cell_type": "code",
   "execution_count": 118,
   "id": "95543c60-e859-4b2a-ba95-ee6d87f3c3ed",
   "metadata": {
    "tags": []
   },
   "outputs": [],
   "source": [
    "class GS:\n",
    "    def __init__(self, age = 0):\n",
    "        self._age = age\n",
    "\n",
    "    # getter method\n",
    "    def get_age(self):\n",
    "        return self._age\n",
    "\n",
    "    # setter method\n",
    "    def set_age(self, x):\n",
    "        self._age = x\n",
    "\n",
    "                                           "
   ]
  },
  {
   "cell_type": "code",
   "execution_count": 119,
   "id": "cb270b1b-552a-4a4d-b56c-119494148dc4",
   "metadata": {
    "tags": []
   },
   "outputs": [],
   "source": [
    "raj = GS(25) "
   ]
  },
  {
   "cell_type": "code",
   "execution_count": 120,
   "id": "bba11be1-87d6-463a-b943-3caa79fc919b",
   "metadata": {
    "tags": []
   },
   "outputs": [
    {
     "data": {
      "text/plain": [
       "25"
      ]
     },
     "execution_count": 120,
     "metadata": {},
     "output_type": "execute_result"
    }
   ],
   "source": [
    "raj.get_age()"
   ]
  },
  {
   "cell_type": "code",
   "execution_count": 121,
   "id": "2a5404d5-c299-460a-82d6-7ea74bc34359",
   "metadata": {
    "tags": []
   },
   "outputs": [],
   "source": [
    "raj.set_age(28)"
   ]
  },
  {
   "cell_type": "code",
   "execution_count": 122,
   "id": "433d868d-c0b5-401c-9c7f-709a064d917e",
   "metadata": {
    "tags": []
   },
   "outputs": [
    {
     "data": {
      "text/plain": [
       "28"
      ]
     },
     "execution_count": 122,
     "metadata": {},
     "output_type": "execute_result"
    }
   ],
   "source": [
    "raj.get_age()"
   ]
  },
  {
   "cell_type": "markdown",
   "id": "1eacbd8c-50cf-4631-a57b-9e96ba72ae87",
   "metadata": {},
   "source": [
    "# 4~"
   ]
  },
  {
   "cell_type": "code",
   "execution_count": 144,
   "id": "0c4a41ce-056c-4f6a-a40c-4205c10174b7",
   "metadata": {
    "tags": []
   },
   "outputs": [],
   "source": [
    "# Method over riding is a situation in class in which a function with same name is defined in two classes \n",
    "# which are inherited in other class\n",
    "\n",
    "class parent:\n",
    "    \n",
    "    def __init__(self):\n",
    "        self.value = \"inside parent class \"\n",
    "        \n",
    "    def show(self):\n",
    "        print(self.value)\n",
    "        "
   ]
  },
  {
   "cell_type": "code",
   "execution_count": 145,
   "id": "b765f4d8-418a-41a1-90e0-56690484323f",
   "metadata": {
    "tags": []
   },
   "outputs": [],
   "source": [
    "class child(parent):\n",
    "    \n",
    "    def __init__(self):\n",
    "        self.value = \"inside child class \"\n",
    "        \n",
    "    def show(self):\n",
    "        print(self.value)\n",
    "        "
   ]
  },
  {
   "cell_type": "code",
   "execution_count": 146,
   "id": "855adf72-7fd7-4426-b94f-222c8418bd30",
   "metadata": {
    "tags": []
   },
   "outputs": [],
   "source": [
    "p = parent()"
   ]
  },
  {
   "cell_type": "code",
   "execution_count": 147,
   "id": "d875d657-889e-4eac-92e7-803116cd885c",
   "metadata": {
    "tags": []
   },
   "outputs": [],
   "source": [
    "c = child()"
   ]
  },
  {
   "cell_type": "code",
   "execution_count": 148,
   "id": "63544d52-dc19-4394-8415-69ccab01d4ff",
   "metadata": {
    "tags": []
   },
   "outputs": [
    {
     "name": "stdout",
     "output_type": "stream",
     "text": [
      "inside parent class \n"
     ]
    }
   ],
   "source": [
    "p.show()"
   ]
  },
  {
   "cell_type": "code",
   "execution_count": 149,
   "id": "cf30efeb-0f28-4c48-9e39-11d2a35aacdd",
   "metadata": {
    "tags": []
   },
   "outputs": [
    {
     "name": "stdout",
     "output_type": "stream",
     "text": [
      "inside child class \n"
     ]
    }
   ],
   "source": [
    "c.show()"
   ]
  },
  {
   "cell_type": "code",
   "execution_count": null,
   "id": "da8144a1-242a-4be0-9b16-a14dde9532a8",
   "metadata": {},
   "outputs": [],
   "source": []
  }
 ],
 "metadata": {
  "kernelspec": {
   "display_name": "Python 3 (ipykernel)",
   "language": "python",
   "name": "python3"
  },
  "language_info": {
   "codemirror_mode": {
    "name": "ipython",
    "version": 3
   },
   "file_extension": ".py",
   "mimetype": "text/x-python",
   "name": "python",
   "nbconvert_exporter": "python",
   "pygments_lexer": "ipython3",
   "version": "3.9.0"
  }
 },
 "nbformat": 4,
 "nbformat_minor": 5
}
