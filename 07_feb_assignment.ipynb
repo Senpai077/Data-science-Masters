{
 "cells": [
  {
   "cell_type": "markdown",
   "id": "65b0586c-728f-47e4-9856-0f45a00a4ac5",
   "metadata": {},
   "source": [
    "# This is the question no 1."
   ]
  },
  {
   "cell_type": "code",
   "execution_count": 33,
   "id": "df43f560-1ea1-4125-9d83-44a19a11de1f",
   "metadata": {
    "tags": []
   },
   "outputs": [
    {
     "name": "stdin",
     "output_type": "stream",
     "text": [
      "Enter your password: aschASD123!@#\n"
     ]
    },
    {
     "name": "stdout",
     "output_type": "stream",
     "text": [
      "Valid Password\n"
     ]
    }
   ],
   "source": [
    "password = input(\"Enter your password:\")\n",
    "\n",
    "upper = lower = sp = num = ln = 0\n",
    "\n",
    "for i in password:\n",
    "    if i.isupper():\n",
    "        upper = upper + 1\n",
    "    if i.islower():\n",
    "        lower = lower + 1\n",
    "    if i.isnumeric():\n",
    "        num = num + 1\n",
    "    if i.isalpha() or i.isdigit() or i == \" \":\n",
    "        pass\n",
    "    else:\n",
    "        sp = sp + 1\n",
    "        \n",
    "        \n",
    "if num>=1 and lower>=2 and upper>=2 and sp>=3 and len(password)>=10:\n",
    "    print(\"Valid Password\")\n",
    "\n",
    "else:\n",
    "    print(\"Invalid Password\")"
   ]
  },
  {
   "cell_type": "code",
   "execution_count": null,
   "id": "85e2ddc8-4ec5-4002-b1ad-890f5148eaf6",
   "metadata": {},
   "outputs": [],
   "source": []
  },
  {
   "cell_type": "markdown",
   "id": "64dc834c-eab6-4f56-914a-8a02b87c046d",
   "metadata": {},
   "source": [
    "# This is the question no 2.\n"
   ]
  },
  {
   "cell_type": "markdown",
   "id": "e146eec7-acbc-449a-b5c1-78f2db08ffc5",
   "metadata": {},
   "source": [
    "# ~"
   ]
  },
  {
   "cell_type": "code",
   "execution_count": 60,
   "id": "4e9ee88a-9e7c-42ce-843d-7879fa6bc94e",
   "metadata": {
    "tags": []
   },
   "outputs": [
    {
     "name": "stdin",
     "output_type": "stream",
     "text": [
      "Enter your string: ajju\n"
     ]
    },
    {
     "name": "stdout",
     "output_type": "stream",
     "text": [
      "Your string starts with A.\n"
     ]
    }
   ],
   "source": [
    "# To check if the given string is started with \"A\"\n",
    "strng = input(\"Enter your string:\")\n",
    "\n",
    "if strng[0] == \"a\" or strng[0] == \"A\":\n",
    "    print(\"Your string starts with A.\")\n",
    "else:\n",
    "    print(\"Your string doesnt starts with A\")\n",
    "    "
   ]
  },
  {
   "cell_type": "markdown",
   "id": "a1fb2ae6-00ff-4362-8d7d-4b0ec38b8d6f",
   "metadata": {},
   "source": [
    "# ~"
   ]
  },
  {
   "cell_type": "code",
   "execution_count": 62,
   "id": "71c179c3-9a39-434d-a37f-a9169ba46ada",
   "metadata": {
    "tags": []
   },
   "outputs": [
    {
     "name": "stdin",
     "output_type": "stream",
     "text": [
      "Enter  your string: 123abc\n"
     ]
    },
    {
     "name": "stdout",
     "output_type": "stream",
     "text": [
      "The given string is not numeric\n"
     ]
    }
   ],
   "source": [
    "# To check if the given string is numeric or not\n",
    "string = input(\"Enter  your string:\")\n",
    "try:\n",
    "    string = int(string)\n",
    "except:\n",
    "    print(\"The given string is not numeric\")\n",
    "else:\n",
    "    print(string)"
   ]
  },
  {
   "cell_type": "markdown",
   "id": "df42841e-bf36-4365-9da2-6eb5031e452b",
   "metadata": {},
   "source": [
    "# ~"
   ]
  },
  {
   "cell_type": "code",
   "execution_count": 63,
   "id": "385cd052-7f70-4425-b3e1-9736f6d07cbf",
   "metadata": {
    "tags": []
   },
   "outputs": [],
   "source": [
    "# Sorting a given list of tuple\n",
    "lst_tuple = [(\"mango\",99),(\"orange\",80), (\"grapes\", 1000)]"
   ]
  },
  {
   "cell_type": "code",
   "execution_count": 64,
   "id": "d9e6675a-b3a3-4754-833c-805c91882afb",
   "metadata": {
    "tags": []
   },
   "outputs": [],
   "source": [
    "lst_tuple.sort()"
   ]
  },
  {
   "cell_type": "code",
   "execution_count": 65,
   "id": "74cfd892-829e-4442-aa73-ed291aa45beb",
   "metadata": {
    "tags": []
   },
   "outputs": [
    {
     "data": {
      "text/plain": [
       "[('grapes', 1000), ('mango', 99), ('orange', 80)]"
      ]
     },
     "execution_count": 65,
     "metadata": {},
     "output_type": "execute_result"
    }
   ],
   "source": [
    "lst_tuple"
   ]
  },
  {
   "cell_type": "markdown",
   "id": "220ca2d9-30b4-4fee-944f-504eaa741b7d",
   "metadata": {},
   "source": [
    "# ~"
   ]
  },
  {
   "cell_type": "code",
   "execution_count": 66,
   "id": "a5538626-8f30-47ee-8e4c-0443c04628bb",
   "metadata": {
    "tags": []
   },
   "outputs": [
    {
     "name": "stdout",
     "output_type": "stream",
     "text": [
      "[1, 4, 9, 16, 25, 36, 49, 64, 81, 100]\n"
     ]
    }
   ],
   "source": [
    "# Squaring the fist 10 natural numbers \n",
    "x = list(map(lambda x:x**2,range(1,11)))\n",
    "print(x)"
   ]
  },
  {
   "cell_type": "markdown",
   "id": "50f8d1a0-23d8-42f8-93a8-3812bc8d1a7d",
   "metadata": {},
   "source": [
    "# ~"
   ]
  },
  {
   "cell_type": "code",
   "execution_count": 67,
   "id": "da2990ac-12fd-4073-8111-9551e654a6fc",
   "metadata": {
    "tags": []
   },
   "outputs": [],
   "source": [
    "# Cube rot of first 10 natural numbers\n",
    "cub_root = list(map(lambda x:x**(1/3),range(1,11)))"
   ]
  },
  {
   "cell_type": "code",
   "execution_count": 68,
   "id": "7a24c9b5-b639-440d-8c9e-41fd4d67e8e0",
   "metadata": {
    "tags": []
   },
   "outputs": [
    {
     "data": {
      "text/plain": [
       "[1.0,\n",
       " 1.2599210498948732,\n",
       " 1.4422495703074083,\n",
       " 1.5874010519681994,\n",
       " 1.7099759466766968,\n",
       " 1.8171205928321397,\n",
       " 1.912931182772389,\n",
       " 2.0,\n",
       " 2.080083823051904,\n",
       " 2.154434690031884]"
      ]
     },
     "execution_count": 68,
     "metadata": {},
     "output_type": "execute_result"
    }
   ],
   "source": [
    "cub_root"
   ]
  },
  {
   "cell_type": "markdown",
   "id": "a341e4ef-0c7c-48be-8f59-2dd0aff3c486",
   "metadata": {},
   "source": [
    "# ~"
   ]
  },
  {
   "cell_type": "code",
   "execution_count": 69,
   "id": "a6622a23-8419-4f4b-83b1-5867bd4feaeb",
   "metadata": {
    "tags": []
   },
   "outputs": [
    {
     "name": "stdin",
     "output_type": "stream",
     "text": [
      " 34\n"
     ]
    },
    {
     "name": "stdout",
     "output_type": "stream",
     "text": [
      "The given number is even\n"
     ]
    }
   ],
   "source": [
    "# Check if given number is  even\n",
    "number = int(input())\n",
    "\n",
    "if number%2 == 0:\n",
    "    print(\"The given number is even\")\n",
    "else:\n",
    "    print(\"The given number is not even\")"
   ]
  },
  {
   "cell_type": "markdown",
   "id": "bde0beb1-6749-49cc-89f9-0f3f2019ae98",
   "metadata": {},
   "source": [
    "# ~"
   ]
  },
  {
   "cell_type": "code",
   "execution_count": 70,
   "id": "b6ce94b8-4fff-4cfd-aeee-a5c645cb54af",
   "metadata": {
    "tags": []
   },
   "outputs": [
    {
     "data": {
      "text/plain": [
       "[1, 3, 5, 7, 9]"
      ]
     },
     "execution_count": 70,
     "metadata": {},
     "output_type": "execute_result"
    }
   ],
   "source": [
    "# filtering the odd  elements of a given list\n",
    "lst = [1,2,3,4,5,6,7,8,9,10]\n",
    "odd = list(filter(lambda x : x%2 != 0,lst))\n",
    "odd"
   ]
  },
  {
   "cell_type": "markdown",
   "id": "c391c415-9d76-4444-ae06-6739475055c9",
   "metadata": {},
   "source": [
    "# ~"
   ]
  },
  {
   "cell_type": "code",
   "execution_count": 71,
   "id": "8fdcd470-0ecb-408c-9308-f2a8f6497374",
   "metadata": {
    "tags": []
   },
   "outputs": [
    {
     "data": {
      "text/plain": [
       "[-5, -4, -3, -2, -1, 0, 1, 2, 3, 4, 5, 6]"
      ]
     },
     "execution_count": 71,
     "metadata": {},
     "output_type": "execute_result"
    }
   ],
   "source": [
    "# Sorting positive and negative integers\n",
    "intgr = [1,2,3,4,5,6,-1,-2,-3,-4,-5,0]\n",
    "intgr.sort()\n",
    "intgr"
   ]
  },
  {
   "cell_type": "code",
   "execution_count": null,
   "id": "32aed377-7792-4d5a-b5cc-bce43a9d679a",
   "metadata": {},
   "outputs": [],
   "source": []
  }
 ],
 "metadata": {
  "kernelspec": {
   "display_name": "Python 3 (ipykernel)",
   "language": "python",
   "name": "python3"
  },
  "language_info": {
   "codemirror_mode": {
    "name": "ipython",
    "version": 3
   },
   "file_extension": ".py",
   "mimetype": "text/x-python",
   "name": "python",
   "nbconvert_exporter": "python",
   "pygments_lexer": "ipython3",
   "version": "3.9.0"
  }
 },
 "nbformat": 4,
 "nbformat_minor": 5
}
