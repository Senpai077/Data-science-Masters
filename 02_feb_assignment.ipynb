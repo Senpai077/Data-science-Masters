{
 "cells": [
  {
   "cell_type": "markdown",
   "id": "0e627a45-045d-44bf-929f-d4aa354c3b31",
   "metadata": {},
   "source": [
    " #### **Q1.** A tuple is a data type in pyhton in which we can store data just similar to the list,you can add integer string      and other type of data in a tuple.The main characterstic of a tuple is that a tuple is immutable, means one          cannot change, remove, or add any  elements of a tuple."
   ]
  },
  {
   "cell_type": "markdown",
   "id": "6c59bab0-f112-4a62-b225-3c2d6d75cd11",
   "metadata": {},
   "source": [
    "#### **Q2.** Two tuple methods available in python are index and count.With the help of these two methods we can check for       the index for the given element in tuple and can also know about the no of occurance of a particular element in     the tuple. "
   ]
  },
  {
   "cell_type": "code",
   "execution_count": 8,
   "id": "babc8f95-35fb-420d-b668-5c5f5c843a07",
   "metadata": {},
   "outputs": [],
   "source": [
    "#examples\n",
    "t=(1,2,2,2,3,3,4,5,5,6,3)"
   ]
  },
  {
   "cell_type": "code",
   "execution_count": 7,
   "id": "71a873ce-b5d1-4a2a-907b-05117b2f881e",
   "metadata": {},
   "outputs": [
    {
     "data": {
      "text/plain": [
       "7"
      ]
     },
     "execution_count": 7,
     "metadata": {},
     "output_type": "execute_result"
    }
   ],
   "source": [
    "t.index(5)"
   ]
  },
  {
   "cell_type": "code",
   "execution_count": 6,
   "id": "8e941d7d-7cc5-4fae-a8fa-a8a54d67a81a",
   "metadata": {},
   "outputs": [
    {
     "data": {
      "text/plain": [
       "3"
      ]
     },
     "execution_count": 6,
     "metadata": {},
     "output_type": "execute_result"
    }
   ],
   "source": [
    "t.count(2)"
   ]
  },
  {
   "cell_type": "markdown",
   "id": "cd93fe4a-ace2-4069-8a1f-9f81871db556",
   "metadata": {},
   "source": [
    "#### Tuples in python have only two in-built methods because tuples are immutable and therefore operations like adding an element removing an element or changing any element is not possible."
   ]
  },
  {
   "cell_type": "markdown",
   "id": "5198e53e-a12a-433c-bead-3dd74594d2c7",
   "metadata": {},
   "source": [
    "#### **Q3.** Set is a datatype in python which do not allow items duplicacy in it."
   ]
  },
  {
   "cell_type": "code",
   "execution_count": 14,
   "id": "0ffe04db-75cf-44de-b06a-20603584ec48",
   "metadata": {},
   "outputs": [],
   "source": [
    "#example\n",
    "List = [1, 1, 1, 2, 1, 3, 1, 4, 2, 1, 2, 2, 2, 3, 2, 4, 3, 1, 3, 2, 3, 3, 3, 4, 4, 1, 4, 2, 4, 3, 4, 4]"
   ]
  },
  {
   "cell_type": "code",
   "execution_count": 19,
   "id": "74c46eb2-9edb-4494-8964-cf2957b109ea",
   "metadata": {},
   "outputs": [
    {
     "data": {
      "text/plain": [
       "{1, 2, 3, 4}"
      ]
     },
     "execution_count": 19,
     "metadata": {},
     "output_type": "execute_result"
    }
   ],
   "source": [
    "#To remove duplicate files from this list we can use set function.\n",
    "set(List)"
   ]
  },
  {
   "cell_type": "markdown",
   "id": "40194507-6360-4433-8446-0420278c023e",
   "metadata": {},
   "source": [
    "#### **Q4.** union() and update() are two methods available in set. both are different from each other as union() simply combine all the elements of both the set and do not make any changes in the original sets.\n",
    "\n",
    "### While update()  takes the element from the 2nd set and update the first set by adding the values of the 2nd set in it.In this the Original 1st set is changed or updated and the 2nd original set wil be as it is."
   ]
  },
  {
   "cell_type": "code",
   "execution_count": 4,
   "id": "a1178a2f-e97e-4b26-a610-a57e48d70255",
   "metadata": {},
   "outputs": [],
   "source": [
    "s1={2,4,6}\n",
    "s2={3,5,2,7}"
   ]
  },
  {
   "cell_type": "code",
   "execution_count": 9,
   "id": "836956e9-7a26-4491-9386-b048133255d2",
   "metadata": {},
   "outputs": [
    {
     "data": {
      "text/plain": [
       "{2, 3, 4, 5, 6, 7}"
      ]
     },
     "execution_count": 9,
     "metadata": {},
     "output_type": "execute_result"
    }
   ],
   "source": [
    "s1.union(s2)"
   ]
  },
  {
   "cell_type": "code",
   "execution_count": 10,
   "id": "5abb6def-68fb-4da7-ab76-1028a3d54e49",
   "metadata": {},
   "outputs": [
    {
     "name": "stdout",
     "output_type": "stream",
     "text": [
      "{2, 4, 6}\n",
      "{2, 3, 5, 7}\n"
     ]
    }
   ],
   "source": [
    "print(s1)\n",
    "print(s2)\n"
   ]
  },
  {
   "cell_type": "code",
   "execution_count": 11,
   "id": "0d24e670-ecfc-4ece-95da-0ae0b05bfb98",
   "metadata": {},
   "outputs": [],
   "source": [
    "s1.update(s2)"
   ]
  },
  {
   "cell_type": "code",
   "execution_count": 13,
   "id": "ff1bbe83-77a7-44fa-ae32-04bf45e85eef",
   "metadata": {},
   "outputs": [
    {
     "name": "stdout",
     "output_type": "stream",
     "text": [
      "{2, 3, 4, 5, 6, 7}\n",
      "{2, 3, 5, 7}\n"
     ]
    }
   ],
   "source": [
    "print(s1)\n",
    "print(s2)"
   ]
  },
  {
   "cell_type": "markdown",
   "id": "6e0df164-5c7d-4b59-b04a-c8394b688704",
   "metadata": {},
   "source": [
    "### **Q5** A dictionary is a data type in python in which data is stored in pairs of keys and values.A dictionary in python is an unordered data type."
   ]
  },
  {
   "cell_type": "code",
   "execution_count": 31,
   "id": "47de0646-596b-489d-ac40-2cbf776dbf3b",
   "metadata": {},
   "outputs": [],
   "source": [
    "d={4:42,44:1,1:12,2:22,3:32}"
   ]
  },
  {
   "cell_type": "code",
   "execution_count": 32,
   "id": "6a348501-d593-4a1c-b1eb-3c1348c4bcef",
   "metadata": {},
   "outputs": [
    {
     "data": {
      "text/plain": [
       "{4: 42, 44: 1, 1: 12, 2: 22, 3: 32}"
      ]
     },
     "execution_count": 32,
     "metadata": {},
     "output_type": "execute_result"
    }
   ],
   "source": [
    "d"
   ]
  },
  {
   "cell_type": "code",
   "execution_count": 33,
   "id": "ddda484c-5bac-4615-b70c-49b7f9dd14de",
   "metadata": {},
   "outputs": [
    {
     "data": {
      "text/plain": [
       "dict"
      ]
     },
     "execution_count": 33,
     "metadata": {},
     "output_type": "execute_result"
    }
   ],
   "source": [
    "type(d)"
   ]
  },
  {
   "cell_type": "markdown",
   "id": "cbde9921-8e20-4577-970a-dedc51cf2376",
   "metadata": {},
   "source": [
    "### **Q6** Yes we can create a nested dictionary in python. The example of a nested dictionary is given below."
   ]
  },
  {
   "cell_type": "code",
   "execution_count": 37,
   "id": "4c3f979f-e3fc-4e96-91c3-12fee1bcea50",
   "metadata": {},
   "outputs": [],
   "source": [
    "    d1={\"key1\":{\"key2\":\"value2\"},3:33}"
   ]
  },
  {
   "cell_type": "code",
   "execution_count": 38,
   "id": "18ec0404-033d-4ca1-ad52-dc7c2a362106",
   "metadata": {},
   "outputs": [
    {
     "data": {
      "text/plain": [
       "{'key1': {'key2': 'value2'}, 3: 33}"
      ]
     },
     "execution_count": 38,
     "metadata": {},
     "output_type": "execute_result"
    }
   ],
   "source": [
    "d1"
   ]
  },
  {
   "cell_type": "code",
   "execution_count": 40,
   "id": "89792886-25e6-4e5e-a66e-8e031a7f53a4",
   "metadata": {},
   "outputs": [
    {
     "data": {
      "text/plain": [
       "{'key2': 'value2'}"
      ]
     },
     "execution_count": 40,
     "metadata": {},
     "output_type": "execute_result"
    }
   ],
   "source": [
    "d1[\"key1\"]"
   ]
  },
  {
   "cell_type": "markdown",
   "id": "9b0d1cd4-db36-4825-94a4-e9fea3dc683e",
   "metadata": {},
   "source": [
    "### **Q7** "
   ]
  },
  {
   "cell_type": "code",
   "execution_count": 41,
   "id": "2d78c680-447a-423e-8f2e-68397f1f6033",
   "metadata": {},
   "outputs": [],
   "source": [
    "dict1 = {'language' : 'Python', 'course': 'Data Science Masters'}"
   ]
  },
  {
   "cell_type": "code",
   "execution_count": 44,
   "id": "22f03271-977a-4cf6-b649-eaecf1b06921",
   "metadata": {},
   "outputs": [
    {
     "data": {
      "text/plain": [
       "['Python', 'Machine Learning', 'Deep Learning']"
      ]
     },
     "execution_count": 44,
     "metadata": {},
     "output_type": "execute_result"
    }
   ],
   "source": [
    "dict1.setdefault(\"topics\",[\"Python\", \"Machine Learning\", \"Deep Learning\"])"
   ]
  },
  {
   "cell_type": "code",
   "execution_count": 45,
   "id": "df165c44-3d41-47db-a68f-8908d1ebafad",
   "metadata": {},
   "outputs": [
    {
     "data": {
      "text/plain": [
       "{'language': 'Python',\n",
       " 'course': 'Data Science Masters',\n",
       " 'topics': ['Python', 'Machine Learning', 'Deep Learning']}"
      ]
     },
     "execution_count": 45,
     "metadata": {},
     "output_type": "execute_result"
    }
   ],
   "source": [
    "dict1"
   ]
  },
  {
   "cell_type": "markdown",
   "id": "7beb052c-72bb-4390-aa93-8445c28ed0ad",
   "metadata": {},
   "source": [
    "### **Q8** Three view methods of dictionary in python are given below:-"
   ]
  },
  {
   "cell_type": "code",
   "execution_count": 46,
   "id": "08c583bc-8b02-4f8a-ac72-dab845708dd6",
   "metadata": {},
   "outputs": [],
   "source": [
    "dict1 = {'Sport': 'Cricket' , 'Teams': ['India', 'Australia', 'England', 'South Africa', 'Sri Lanka', 'New Zealand']}"
   ]
  },
  {
   "cell_type": "code",
   "execution_count": 47,
   "id": "769c4e92-f884-4e82-9bba-03ff974d2f61",
   "metadata": {},
   "outputs": [
    {
     "data": {
      "text/plain": [
       "dict_keys(['Sport', 'Teams'])"
      ]
     },
     "execution_count": 47,
     "metadata": {},
     "output_type": "execute_result"
    }
   ],
   "source": [
    "dict1.keys()"
   ]
  },
  {
   "cell_type": "code",
   "execution_count": 48,
   "id": "246e4d91-d226-4b8a-8935-85038396ffe7",
   "metadata": {},
   "outputs": [
    {
     "data": {
      "text/plain": [
       "dict_values(['Cricket', ['India', 'Australia', 'England', 'South Africa', 'Sri Lanka', 'New Zealand']])"
      ]
     },
     "execution_count": 48,
     "metadata": {},
     "output_type": "execute_result"
    }
   ],
   "source": [
    "dict1.values()"
   ]
  },
  {
   "cell_type": "code",
   "execution_count": 49,
   "id": "b3f607df-5fb7-450b-a64d-576a8f594f71",
   "metadata": {},
   "outputs": [
    {
     "data": {
      "text/plain": [
       "dict_items([('Sport', 'Cricket'), ('Teams', ['India', 'Australia', 'England', 'South Africa', 'Sri Lanka', 'New Zealand'])])"
      ]
     },
     "execution_count": 49,
     "metadata": {},
     "output_type": "execute_result"
    }
   ],
   "source": [
    "dict1.items()"
   ]
  },
  {
   "cell_type": "code",
   "execution_count": null,
   "id": "9faee8e4-1b93-476d-ac2c-0b5f64b4fa32",
   "metadata": {},
   "outputs": [],
   "source": []
  }
 ],
 "metadata": {
  "kernelspec": {
   "display_name": "Python 3 (ipykernel)",
   "language": "python",
   "name": "python3"
  },
  "language_info": {
   "codemirror_mode": {
    "name": "ipython",
    "version": 3
   },
   "file_extension": ".py",
   "mimetype": "text/x-python",
   "name": "python",
   "nbconvert_exporter": "python",
   "pygments_lexer": "ipython3",
   "version": "3.10.8"
  }
 },
 "nbformat": 4,
 "nbformat_minor": 5
}
