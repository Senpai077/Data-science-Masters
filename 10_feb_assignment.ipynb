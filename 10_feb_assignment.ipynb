{
 "cells": [
  {
   "cell_type": "markdown",
   "id": "d368838d-e0b6-48e2-b545-71567bb2d537",
   "metadata": {
    "tags": []
   },
   "source": [
    "# 1~ "
   ]
  },
  {
   "cell_type": "markdown",
   "id": "7f37d4a9-0df8-4012-8836-054a05f1a5c3",
   "metadata": {},
   "source": [
    "## open()   function is ussed to open a file in pyhton.\n",
    "###  Some of the various modes available in the python for file opening\n",
    " \n",
    "'r'       open for reading (default)\n",
    "\n",
    "'w'       open for writing, truncating the file first\n",
    "\n",
    "'x'       create a new file and open it for writing\n",
    "\n",
    "'a'       open for writing, appending to the end of the file if it exists\n",
    "\n",
    "'b'       binary mode\n",
    "\n",
    "'t'       text mode (default)\n",
    "\n",
    "'+'       open a disk file for updating (reading and writing)\n",
    "\n",
    "'U'       universal newline mode (deprecated)"
   ]
  },
  {
   "cell_type": "markdown",
   "id": "8e972d47-e76d-401e-b6f9-825a179a6cfd",
   "metadata": {},
   "source": [
    "# 2~"
   ]
  },
  {
   "cell_type": "markdown",
   "id": "330d1a17-e004-4d70-a1c6-8ca87ae8fa47",
   "metadata": {},
   "source": [
    "### The close() function in python is used to flush any unwritten  information and close the file . It is important to close a file in ptyhon because when the file opend in written mode, then we cannot access the file outside the  pyhon umtil it is closed.closing  the file means we no more require to write any thing in the file and saving the changes that has been made. "
   ]
  },
  {
   "cell_type": "markdown",
   "id": "e49999f6-69ec-457f-a789-7970d691e443",
   "metadata": {},
   "source": [
    "# 3~"
   ]
  },
  {
   "cell_type": "code",
   "execution_count": 28,
   "id": "274266ef-7749-4547-888a-03186c52a4d3",
   "metadata": {
    "tags": []
   },
   "outputs": [],
   "source": [
    "with open (\"text.txt\",\"w\") as f:\n",
    "    f.write(\"I want to become a Data scientist programmer\")\n",
    "    "
   ]
  },
  {
   "cell_type": "code",
   "execution_count": 29,
   "id": "06d0c4f4-e7f0-47ad-838c-109bd433f6f7",
   "metadata": {
    "tags": []
   },
   "outputs": [
    {
     "name": "stdout",
     "output_type": "stream",
     "text": [
      "I want to become a Data scientist programmer\n"
     ]
    }
   ],
   "source": [
    "with open (\"text.txt\", \"r\") as  f:\n",
    "    f.seek(0)\n",
    "    print(f.read())\n",
    "    \n",
    "    "
   ]
  },
  {
   "cell_type": "markdown",
   "id": "6be1a187-d133-4288-9ab5-75471e114720",
   "metadata": {},
   "source": [
    "# 4~"
   ]
  },
  {
   "cell_type": "markdown",
   "id": "c377d4f2-597b-4a66-ba49-d90d4af13e18",
   "metadata": {
    "tags": []
   },
   "source": [
    "_______________________________________________________________________________________________________________________________\n",
    "\n",
    "#####     read(n)\n",
    "#####     f.read()\n",
    "#####      Reads and returns a string of n characters, or the entire file as a single string if n is not provided.\n",
    "_______________________________________________________________________________________________________________________________\n",
    "\n",
    "#####     readline(n)\n",
    "#####     f.readline()\n",
    "#####     Returns the next line of the file with all text up to and including the newline character. If n is provided as a parameter than only n characters will be returned if the line is longer than n.\n",
    "_______________________________________________________________________________________________________________________________\n",
    "\n",
    "#####     readlines(n)\n",
    "#####     f.readlines()\n",
    "#####     Returns a list of strings, each representing a single line of the file. If n is not provided then all lines of the file are returned. If n is provided then n characters are read but n is rounded up so that an entire line is returned."
   ]
  },
  {
   "cell_type": "markdown",
   "id": "d3d3cc95-9fc3-407f-8728-d2ddb513bd7a",
   "metadata": {},
   "source": [
    "#  5~"
   ]
  },
  {
   "cell_type": "markdown",
   "id": "7f28dda9-1d15-4b3e-9a66-238c6d77925e",
   "metadata": {},
   "source": [
    "#### when we use 'with' statement with  open function then an execution block is  created and an  object  is created in the with statement which  will be destroyed or  closed when this execution block ends. allthough it is a good practice to use close()  i your programming."
   ]
  },
  {
   "cell_type": "markdown",
   "id": "6d68a4d1-84ba-4221-86e1-754b33a4f1f1",
   "metadata": {},
   "source": [
    "# 6~"
   ]
  },
  {
   "cell_type": "markdown",
   "id": "cea67ec6-9a31-4f9c-94ce-74ec71a2c1b0",
   "metadata": {},
   "source": [
    "#### The difference between the write() function and  the writelines() function is the the write function is used  to add string characters into the opened file while writelines() function is used to  add  list of  string  into a opened file.\n"
   ]
  },
  {
   "cell_type": "code",
   "execution_count": null,
   "id": "ac792427-d06e-45ec-8d03-46168c3c3cfd",
   "metadata": {},
   "outputs": [],
   "source": []
  }
 ],
 "metadata": {
  "kernelspec": {
   "display_name": "Python 3 (ipykernel)",
   "language": "python",
   "name": "python3"
  },
  "language_info": {
   "codemirror_mode": {
    "name": "ipython",
    "version": 3
   },
   "file_extension": ".py",
   "mimetype": "text/x-python",
   "name": "python",
   "nbconvert_exporter": "python",
   "pygments_lexer": "ipython3",
   "version": "3.9.0"
  }
 },
 "nbformat": 4,
 "nbformat_minor": 5
}
