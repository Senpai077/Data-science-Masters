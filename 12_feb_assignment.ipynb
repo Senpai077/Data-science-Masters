{
 "cells": [
  {
   "cell_type": "markdown",
   "id": "6cf12fa7-3a05-4d6d-a63c-583261ee46b4",
   "metadata": {},
   "source": [
    "# 1~"
   ]
  },
  {
   "cell_type": "markdown",
   "id": "05541f39-0991-4282-9622-5818fd971d7a",
   "metadata": {},
   "source": [
    "#### When any error occurs in python programme, the whole programme stops working due to that error , to avoide that thing we use exceptions. Exceptions allows us to continue our programm even if  there is any kind of error in it.\n",
    "~\n",
    "\n",
    "The difference between  syntax error and exception is that when syntax error occurs the whole programe stops working while when the exceptions occurs the progrsmme will continues  by excepting the error with the given statements. "
   ]
  },
  {
   "cell_type": "markdown",
   "id": "bff0b01a-0c17-4f7f-8445-1153c8e8aa43",
   "metadata": {
    "tags": []
   },
   "source": [
    "# 2~"
   ]
  },
  {
   "cell_type": "markdown",
   "id": "bbc04628-655f-4f90-a210-9660ddd2df18",
   "metadata": {},
   "source": [
    "#### When an exception is not handeled correctly the programme will show error and the whol;e programme will stop working."
   ]
  },
  {
   "cell_type": "markdown",
   "id": "d3fddb3b-3189-40c1-94fa-caad8475f2c0",
   "metadata": {},
   "source": [
    "# 3~"
   ]
  },
  {
   "cell_type": "code",
   "execution_count": 6,
   "id": "e3d27362-b7f2-4c9d-92ad-569bed77e48f",
   "metadata": {
    "tags": []
   },
   "outputs": [
    {
     "name": "stdout",
     "output_type": "stream",
     "text": [
      "division by zero\n"
     ]
    }
   ],
   "source": [
    "# Try, Except, Else and Finally are used in python to catch and solve exceptions\n",
    "#For example \n",
    "\n",
    "try:\n",
    "    3/0\n",
    "except Exception as e:\n",
    "    print(e)\n",
    "else:\n",
    "    print(\"nothing is happened\")\n",
    "finally:\n",
    "    pass"
   ]
  },
  {
   "cell_type": "markdown",
   "id": "e12a3484-bdaf-4f4a-b3db-3d686590bc1d",
   "metadata": {},
   "source": [
    "# 4~"
   ]
  },
  {
   "cell_type": "markdown",
   "id": "8c2c0c6a-6a2d-4835-ae32-c932afae0650",
   "metadata": {
    "tags": []
   },
   "source": [
    "#### (a.)Try and else are used in python to reduce the chances of eroor in our python programm and try to manage error through  exceptions.\n"
   ]
  },
  {
   "cell_type": "code",
   "execution_count": 4,
   "id": "e049d6cc-3fa4-4d26-88fa-5d98c2515742",
   "metadata": {
    "tags": []
   },
   "outputs": [
    {
     "name": "stdout",
     "output_type": "stream",
     "text": [
      "enter two integer number\n"
     ]
    },
    {
     "name": "stdin",
     "output_type": "stream",
     "text": [
      " 5\n",
      " 2\n"
     ]
    },
    {
     "name": "stdout",
     "output_type": "stream",
     "text": [
      "2.5\n"
     ]
    }
   ],
   "source": [
    "print(\"enter two integer number\")\n",
    "x,y = int(input()), int(input())\n",
    "try:\n",
    "    s = x/y\n",
    "    print(s)\n",
    "except Exception as e:\n",
    "    print(e)\n"
   ]
  },
  {
   "cell_type": "markdown",
   "id": "f0f17f32-6f71-4b12-abf6-3750b4c83c2a",
   "metadata": {},
   "source": [
    "#### (b.)Finally is used with try and else if we want to compile any statement anyway.  "
   ]
  },
  {
   "cell_type": "code",
   "execution_count": 2,
   "id": "8f01db0f-f360-4f4d-a3ce-e018ccc48e15",
   "metadata": {
    "tags": []
   },
   "outputs": [
    {
     "name": "stdout",
     "output_type": "stream",
     "text": [
      "enter two integer number\n"
     ]
    },
    {
     "name": "stdin",
     "output_type": "stream",
     "text": [
      " 2\n",
      " 0\n"
     ]
    },
    {
     "name": "stdout",
     "output_type": "stream",
     "text": [
      "division by zero\n",
      "this statement will always run\n"
     ]
    }
   ],
   "source": [
    "\n",
    "print(\"enter two integer number\")\n",
    "x,y = int(input()), int(input())\n",
    "try:\n",
    "    s = x/y\n",
    "    print(s)\n",
    "except Exception as e:\n",
    "    print(e)\n",
    "finally:\n",
    "    print(\"this statement will always run\")"
   ]
  },
  {
   "cell_type": "code",
   "execution_count": 4,
   "id": "5ca7e7f9-bb57-4bfb-90fb-6c1331f3a337",
   "metadata": {
    "tags": []
   },
   "outputs": [
    {
     "name": "stdin",
     "output_type": "stream",
     "text": [
      "enter positive value of x :  2\n"
     ]
    },
    {
     "name": "stdout",
     "output_type": "stream",
     "text": [
      "you have entered a correct  value. we have to say you are smart\n",
      "nothing is happened\n"
     ]
    }
   ],
   "source": [
    "#(c.)\n",
    "class custom(Exception):\n",
    "    def __init__(self,msg):\n",
    "        self.msg = msg\n",
    "try:\n",
    "    x = int(input(\"enter positive value of x : \"))\n",
    "\n",
    "    if x<0:\n",
    "        raise custom(\"You have entered a wrong value for x.\")\n",
    "    else:\n",
    "        print(\"you have entered a correct  value. we have to say you are smart\")\n",
    "        \n",
    "except Exception as e:\n",
    "    print(e)\n",
    "\n",
    "else:\n",
    "    print(\"nothing is happened\")\n",
    "    \n",
    "finally:\n",
    "    pass\n",
    "      "
   ]
  },
  {
   "cell_type": "markdown",
   "id": "6d17b4a6-8456-4de4-86f0-129b81c84dff",
   "metadata": {},
   "source": [
    "# ~5"
   ]
  },
  {
   "cell_type": "markdown",
   "id": "bcba3b8c-56a8-4745-9f09-486a65f642c3",
   "metadata": {},
   "source": [
    "#### Custom Exceptions are exceptions that are defined by the programmer, which means they are implimented to specific use cases or scenarios. They are defined using the \"raise\" keyword and the \"Exception\" class. Custom Exceptions can be useful when we want to provide more specific information about the error that occurred, or when we want to catch and handle specific errors in a more efficient way"
   ]
  },
  {
   "cell_type": "code",
   "execution_count": 15,
   "id": "886a5ab9-e8b7-4ab2-96af-04822d25fbe5",
   "metadata": {},
   "outputs": [],
   "source": [
    "import math\n",
    "class NegativeNumberError(Exception):\n",
    "    def __init__(self, message):\n",
    "        super().__init__(message)\n",
    "\n",
    "def calculate_square_root(number):\n",
    "    if number < 0:\n",
    "        raise NegativeNumberError(\"Cannot calculate square root of a negative number.\")\n",
    "    else:\n",
    "        return math.sqrt(number)\n"
   ]
  },
  {
   "cell_type": "code",
   "execution_count": 16,
   "id": "151e37d4-59c7-4c94-8038-be68ef436a7b",
   "metadata": {},
   "outputs": [
    {
     "data": {
      "text/plain": [
       "4.0"
      ]
     },
     "execution_count": 16,
     "metadata": {},
     "output_type": "execute_result"
    }
   ],
   "source": [
    "calculate_square_root(16)"
   ]
  },
  {
   "cell_type": "code",
   "execution_count": 17,
   "id": "4658fafb-065c-48f6-a0b3-440f6f7f186a",
   "metadata": {},
   "outputs": [
    {
     "ename": "TypeError",
     "evalue": "catching classes that do not inherit from BaseException is not allowed",
     "output_type": "error",
     "traceback": [
      "\u001b[1;31m---------------------------------------------------------------------------\u001b[0m",
      "\u001b[1;31mZeroDivisionError\u001b[0m                         Traceback (most recent call last)",
      "\u001b[1;32m~\\AppData\\Local\\Temp\\ipykernel_8276\\1513699744.py\u001b[0m in \u001b[0;36m<module>\u001b[1;34m\u001b[0m\n\u001b[0;32m      5\u001b[0m \u001b[1;32mtry\u001b[0m\u001b[1;33m:\u001b[0m\u001b[1;33m\u001b[0m\u001b[1;33m\u001b[0m\u001b[0m\n\u001b[1;32m----> 6\u001b[1;33m     \u001b[1;36m2\u001b[0m\u001b[1;33m/\u001b[0m\u001b[1;36m0\u001b[0m\u001b[1;33m\u001b[0m\u001b[1;33m\u001b[0m\u001b[0m\n\u001b[0m\u001b[0;32m      7\u001b[0m \u001b[1;33m\u001b[0m\u001b[0m\n",
      "\u001b[1;31mZeroDivisionError\u001b[0m: division by zero",
      "\nDuring handling of the above exception, another exception occurred:\n",
      "\u001b[1;31mTypeError\u001b[0m                                 Traceback (most recent call last)",
      "\u001b[1;32m~\\AppData\\Local\\Temp\\ipykernel_8276\\1513699744.py\u001b[0m in \u001b[0;36m<module>\u001b[1;34m\u001b[0m\n\u001b[0;32m      6\u001b[0m     \u001b[1;36m2\u001b[0m\u001b[1;33m/\u001b[0m\u001b[1;36m0\u001b[0m\u001b[1;33m\u001b[0m\u001b[1;33m\u001b[0m\u001b[0m\n\u001b[0;32m      7\u001b[0m \u001b[1;33m\u001b[0m\u001b[0m\n\u001b[1;32m----> 8\u001b[1;33m \u001b[1;32mexcept\u001b[0m \u001b[0merror\u001b[0m \u001b[1;32mas\u001b[0m \u001b[0me\u001b[0m\u001b[1;33m:\u001b[0m\u001b[1;33m\u001b[0m\u001b[1;33m\u001b[0m\u001b[0m\n\u001b[0m\u001b[0;32m      9\u001b[0m     \u001b[0mprint\u001b[0m\u001b[1;33m(\u001b[0m\u001b[0me\u001b[0m\u001b[1;33m)\u001b[0m\u001b[1;33m\u001b[0m\u001b[1;33m\u001b[0m\u001b[0m\n",
      "\u001b[1;31mTypeError\u001b[0m: catching classes that do not inherit from BaseException is not allowed"
     ]
    }
   ],
   "source": [
    "class error:\n",
    "    def __init__(self,msg):\n",
    "        return self.msg\n",
    "    \n",
    "try:\n",
    "    2/0\n",
    "\n",
    "except error as e:\n",
    "    print(e)"
   ]
  },
  {
   "cell_type": "code",
   "execution_count": null,
   "id": "707cab58-4d8c-4a0a-8c6a-c8b94c3fbe26",
   "metadata": {},
   "outputs": [],
   "source": []
  },
  {
   "cell_type": "code",
   "execution_count": null,
   "id": "4eb6a0de-fa3b-432d-9d28-bb6995191392",
   "metadata": {},
   "outputs": [],
   "source": []
  },
  {
   "cell_type": "code",
   "execution_count": null,
   "id": "be255913-be60-4c8f-b3cd-30613b35f802",
   "metadata": {},
   "outputs": [],
   "source": []
  }
 ],
 "metadata": {
  "kernelspec": {
   "display_name": "Python 3 (ipykernel)",
   "language": "python",
   "name": "python3"
  },
  "language_info": {
   "codemirror_mode": {
    "name": "ipython",
    "version": 3
   },
   "file_extension": ".py",
   "mimetype": "text/x-python",
   "name": "python",
   "nbconvert_exporter": "python",
   "pygments_lexer": "ipython3",
   "version": "3.9.0"
  }
 },
 "nbformat": 4,
 "nbformat_minor": 5
}
